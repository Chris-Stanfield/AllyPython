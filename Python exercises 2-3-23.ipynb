{
 "cells": [
  {
   "cell_type": "markdown",
   "id": "fb38b9ff",
   "metadata": {},
   "source": [
    "# Jalamang J and Chris Stanfield\n",
    "\n",
    "# Python Exercises"
   ]
  },
  {
   "cell_type": "markdown",
   "id": "a2f6a4b1",
   "metadata": {},
   "source": [
    "# 1)"
   ]
  },
  {
   "cell_type": "code",
   "execution_count": 7,
   "id": "50761b4c",
   "metadata": {},
   "outputs": [
    {
     "data": {
      "text/plain": [
       "'r'"
      ]
     },
     "execution_count": 7,
     "metadata": {},
     "output_type": "execute_result"
    }
   ],
   "source": [
    "# Write a string index that returns just the letter 'r'  from 'Hello World' . \n",
    "def func(text):\n",
    "    lst_text = list(text)\n",
    "    for letter in lst_text:\n",
    "        if letter == \"r\":\n",
    "            return letter\n",
    "\n",
    "        \n",
    "func(\"Hello World\")\n",
    "\n",
    "word = \"Hello World\"\n",
    "word[8]\n",
    "    "
   ]
  },
  {
   "cell_type": "markdown",
   "id": "c49e3971",
   "metadata": {},
   "source": [
    "# 2)"
   ]
  },
  {
   "cell_type": "code",
   "execution_count": 3,
   "id": "a1a0aa28",
   "metadata": {},
   "outputs": [
    {
     "data": {
      "text/plain": [
       "'ink'"
      ]
     },
     "execution_count": 3,
     "metadata": {},
     "output_type": "execute_result"
    }
   ],
   "source": [
    "# Use string slicing to grab the word 'ink'  from inside 'tinker‘\n",
    "word = \"tinker\"\n",
    "word[1:4]"
   ]
  },
  {
   "cell_type": "markdown",
   "id": "76f713ec",
   "metadata": {},
   "source": [
    "# 3)"
   ]
  },
  {
   "cell_type": "code",
   "execution_count": 8,
   "id": "97e69f09",
   "metadata": {},
   "outputs": [
    {
     "name": "stdout",
     "output_type": "stream",
     "text": [
      "I like python! Python rules!\n"
     ]
    }
   ],
   "source": [
    "#Write an expression using any of the string formatting methods we have learned to return the phrase 'Python rules!‘\n",
    "text = \"Python rules!\"\n",
    "print(f\"I like python! {text}\")"
   ]
  },
  {
   "cell_type": "markdown",
   "id": "e90f9d47",
   "metadata": {},
   "source": [
    "# 4)"
   ]
  },
  {
   "cell_type": "code",
   "execution_count": 9,
   "id": "4330c8ab",
   "metadata": {},
   "outputs": [
    {
     "data": {
      "text/plain": [
       "['Hello', 1, 1.2]"
      ]
     },
     "execution_count": 9,
     "metadata": {},
     "output_type": "execute_result"
    }
   ],
   "source": [
    "#Create a list that contains at least one string, one integer and one float.\n",
    "lst = [\"Hello\", 1, 1.2]\n",
    "lst"
   ]
  },
  {
   "cell_type": "markdown",
   "id": "d394b114",
   "metadata": {},
   "source": [
    "# 5)"
   ]
  },
  {
   "cell_type": "code",
   "execution_count": 10,
   "id": "fe5d10c5",
   "metadata": {},
   "outputs": [
    {
     "data": {
      "text/plain": [
       "{'key1': 1, 'key2': 2, 'key3': 3}"
      ]
     },
     "execution_count": 10,
     "metadata": {},
     "output_type": "execute_result"
    }
   ],
   "source": [
    "# Create a dictionary where all the keys are strings, and all the values are integers.\n",
    "dictionary = {\"key1\": 1, \"key2\": 2, \"key3\": 3}\n",
    "dictionary"
   ]
  },
  {
   "cell_type": "markdown",
   "id": "60b33329",
   "metadata": {},
   "source": [
    "# 6)"
   ]
  },
  {
   "cell_type": "code",
   "execution_count": 11,
   "id": "e47837a8",
   "metadata": {},
   "outputs": [
    {
     "data": {
      "text/plain": [
       "{'M', 'i', 'p', 's'}"
      ]
     },
     "execution_count": 11,
     "metadata": {},
     "output_type": "execute_result"
    }
   ],
   "source": [
    "#Write an expression that would turn the string 'Mississippi'  into a set of unique letters.\n",
    "lst = list(\"Mississippi\")\n",
    "lst_set = set(lst)\n",
    "lst_set"
   ]
  },
  {
   "cell_type": "markdown",
   "id": "10787e35",
   "metadata": {},
   "source": [
    "# 7)"
   ]
  },
  {
   "cell_type": "code",
   "execution_count": 18,
   "id": "cacd1f2f",
   "metadata": {},
   "outputs": [],
   "source": [
    "# Write a script that opens a file named 'test.txt' , writes 'Hello World'  to the file, then closes it.\n",
    "file = open(\"test.txt\", \"w+\")\n",
    "file.write(\"Hello World\")\n",
    "file.close()"
   ]
  },
  {
   "cell_type": "markdown",
   "id": "ffdb2928",
   "metadata": {},
   "source": [
    "# 9)"
   ]
  },
  {
   "cell_type": "code",
   "execution_count": 19,
   "id": "a78b0c72",
   "metadata": {},
   "outputs": [
    {
     "name": "stdout",
     "output_type": "stream",
     "text": [
      "Hello World\n"
     ]
    }
   ],
   "source": [
    "# Write a function called myfunc that prints the string 'Hello World'.\n",
    "def myfunc():\n",
    "    print(\"Hello World\")\n",
    "\n",
    "myfunc()"
   ]
  },
  {
   "cell_type": "markdown",
   "id": "ce69aedc",
   "metadata": {},
   "source": [
    "# 10)"
   ]
  },
  {
   "cell_type": "code",
   "execution_count": 21,
   "id": "0b5b2646",
   "metadata": {},
   "outputs": [
    {
     "name": "stdout",
     "output_type": "stream",
     "text": [
      "Hello Jalamang!\n"
     ]
    }
   ],
   "source": [
    "#Define a function called myfunc that takes in a name, and prints 'Hello Name‘\n",
    "def myfunc(name):\n",
    "    print(f\"Hello {name}!\")\n",
    "    \n",
    "myfunc(\"Jalamang\")"
   ]
  },
  {
   "cell_type": "markdown",
   "id": "10acd984",
   "metadata": {},
   "source": [
    "# 11)"
   ]
  },
  {
   "cell_type": "code",
   "execution_count": 23,
   "id": "50210663",
   "metadata": {},
   "outputs": [
    {
     "data": {
      "text/plain": [
       "'Goodbye'"
      ]
     },
     "execution_count": 23,
     "metadata": {},
     "output_type": "execute_result"
    }
   ],
   "source": [
    "# Define a function called myfunc that takes in a Boolean value (True or False). \n",
    "# If True, return 'Hello', and if False, return 'Goodbye‘\n",
    "def myfunc(boolean):\n",
    "    if boolean == True:\n",
    "        return \"Hello\"\n",
    "    else:\n",
    "        return \"Goodbye\"\n",
    "\n",
    "myfunc(False)"
   ]
  },
  {
   "cell_type": "markdown",
   "id": "feb363db",
   "metadata": {},
   "source": [
    "# 12)"
   ]
  },
  {
   "cell_type": "code",
   "execution_count": 26,
   "id": "bab77f9b",
   "metadata": {},
   "outputs": [
    {
     "data": {
      "text/plain": [
       "'y'"
      ]
     },
     "execution_count": 26,
     "metadata": {},
     "output_type": "execute_result"
    }
   ],
   "source": [
    "# Define a function called myfunc that takes three arguments, x, y and z.\n",
    "# If z is True, return x.  If z is False, return y.\n",
    "\n",
    "def myfunc(x,y,z):\n",
    "    \n",
    "    if z == True:\n",
    "        return x\n",
    "    else:\n",
    "        return y\n",
    "\n",
    "myfunc(\"x\",\"y\", False)"
   ]
  },
  {
   "cell_type": "markdown",
   "id": "6d041554",
   "metadata": {},
   "source": [
    "# 13)"
   ]
  },
  {
   "cell_type": "code",
   "execution_count": 27,
   "id": "0c650774",
   "metadata": {},
   "outputs": [
    {
     "data": {
      "text/plain": [
       "11"
      ]
     },
     "execution_count": 27,
     "metadata": {},
     "output_type": "execute_result"
    }
   ],
   "source": [
    "# Define a function called myfunc that takes in two arguments and returns their sum.\n",
    "\n",
    "def myfunc(x,y):\n",
    "    return x + y\n",
    "\n",
    "myfunc(5, 6)"
   ]
  },
  {
   "cell_type": "markdown",
   "id": "9a1d708f",
   "metadata": {},
   "source": [
    "# 14)"
   ]
  },
  {
   "cell_type": "code",
   "execution_count": 29,
   "id": "1d383bac",
   "metadata": {},
   "outputs": [
    {
     "data": {
      "text/plain": [
       "False"
      ]
     },
     "execution_count": 29,
     "metadata": {},
     "output_type": "execute_result"
    }
   ],
   "source": [
    "# Define a function called is_even that takes in one argument, \n",
    "# and returns True if the passed-in value is even, False if it is not.\n",
    "\n",
    "def is_even(x):\n",
    "    if x%2 == 0:\n",
    "        return True\n",
    "    else:\n",
    "        return False\n",
    "\n",
    "is_even(1)"
   ]
  },
  {
   "cell_type": "markdown",
   "id": "76975b94",
   "metadata": {},
   "source": [
    "# 15) "
   ]
  },
  {
   "cell_type": "code",
   "execution_count": 32,
   "id": "83b567c7",
   "metadata": {},
   "outputs": [
    {
     "data": {
      "text/plain": [
       "True"
      ]
     },
     "execution_count": 32,
     "metadata": {},
     "output_type": "execute_result"
    }
   ],
   "source": [
    "# Define a function called is_greater that takes in two arguments, \n",
    "# and returns True if the first value is greater than the second, \n",
    "# False if it is less than or equal to the second.\n",
    "\n",
    "def is_greater(x, y):\n",
    "    \n",
    "    if x > y:\n",
    "        return True\n",
    "    else: \n",
    "        return False\n",
    "\n",
    "\n",
    "is_greater(6, 5)"
   ]
  },
  {
   "cell_type": "markdown",
   "id": "eb39062a",
   "metadata": {},
   "source": [
    "# 16)"
   ]
  },
  {
   "cell_type": "code",
   "execution_count": 35,
   "id": "66e5a2ac",
   "metadata": {},
   "outputs": [
    {
     "data": {
      "text/plain": [
       "15"
      ]
     },
     "execution_count": 35,
     "metadata": {},
     "output_type": "execute_result"
    }
   ],
   "source": [
    "# Define a function called myfunc that takes in an arbitrary number of arguments, and returns the sum of those arguments.\n",
    "\n",
    "def myfunc(*args):\n",
    "    return sum(args)\n",
    "\n",
    "myfunc(1,2,3,4,5)"
   ]
  },
  {
   "cell_type": "markdown",
   "id": "d919656b",
   "metadata": {},
   "source": [
    "# 17)"
   ]
  },
  {
   "cell_type": "code",
   "execution_count": 40,
   "id": "ff2685bb",
   "metadata": {},
   "outputs": [
    {
     "data": {
      "text/plain": [
       "[2, 4]"
      ]
     },
     "execution_count": 40,
     "metadata": {},
     "output_type": "execute_result"
    }
   ],
   "source": [
    "#Define a function called myfunc that takes in an arbitrary number of arguments, \n",
    "# and returns a list containing only those arguments that are even.\n",
    "\n",
    "def myfunc(*args):\n",
    "    newList = []\n",
    "        \n",
    "    for num in args:\n",
    "        \n",
    "        if num % 2 == 0:\n",
    "             newList.append(num)\n",
    "    \n",
    "    return newList\n",
    "\n",
    "myfunc(1,2,3,4)"
   ]
  },
  {
   "cell_type": "markdown",
   "id": "c3c3d94a",
   "metadata": {},
   "source": [
    "# 18)\n",
    "\n",
    "Define a function called myfunc that takes in a string, and returns a matching string where every even letter is uppercase, and every odd letter is lowercase. Assume that the incoming string only contains letters, and don't worry about numbers, spaces or punctuation. The output string can start with either an uppercase or lowercase letter, so long as letters alternate throughout the string.\n"
   ]
  },
  {
   "cell_type": "code",
   "execution_count": 45,
   "id": "0319db8f",
   "metadata": {},
   "outputs": [
    {
     "data": {
      "text/plain": [
       "'hElLo wOrLd'"
      ]
     },
     "execution_count": 45,
     "metadata": {},
     "output_type": "execute_result"
    }
   ],
   "source": [
    "def myfunc(text):\n",
    "    newString = \"\"\n",
    "    \n",
    "    i=1\n",
    "    \n",
    "    for letter in text:\n",
    "        \n",
    "        \n",
    "        if i % 2 == 0:\n",
    "            newString += letter.upper()\n",
    "        else:\n",
    "            newString += letter.lower()\n",
    "        \n",
    "        i+=1\n",
    "\n",
    "    return newString\n",
    "            \n",
    "myfunc(\"Hello WOrld\")"
   ]
  },
  {
   "cell_type": "code",
   "execution_count": null,
   "id": "e511d7dd",
   "metadata": {},
   "outputs": [],
   "source": []
  },
  {
   "cell_type": "code",
   "execution_count": null,
   "id": "ef47db61",
   "metadata": {},
   "outputs": [],
   "source": []
  }
 ],
 "metadata": {
  "kernelspec": {
   "display_name": "Python 3 (ipykernel)",
   "language": "python",
   "name": "python3"
  },
  "language_info": {
   "codemirror_mode": {
    "name": "ipython",
    "version": 3
   },
   "file_extension": ".py",
   "mimetype": "text/x-python",
   "name": "python",
   "nbconvert_exporter": "python",
   "pygments_lexer": "ipython3",
   "version": "3.9.13"
  }
 },
 "nbformat": 4,
 "nbformat_minor": 5
}
